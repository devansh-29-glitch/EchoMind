{
 "cells": [
  {
   "cell_type": "code",
   "execution_count": null,
   "id": "7f3e78cc",
   "metadata": {
    "vscode": {
     "languageId": "plaintext"
    }
   },
   "outputs": [],
   "source": [
    "# EchoMind — Hippocampal Memory Reconstruction (Text Completion)\n",
    "# Open in Colab → https://colab.research.google.com/github/<your-username>/EchoMind/blob/main/EchoMind_Colab.ipynb\n",
    "\n",
    "!pip install tqdm matplotlib transformers torch\n",
    "\n",
    "from tqdm import tqdm\n",
    "import torch\n",
    "from transformers import GPT2Tokenizer, GPT2LMHeadModel\n",
    "import matplotlib.pyplot as plt\n",
    "import os\n",
    "\n",
    "os.makedirs(\"assets\", exist_ok=True)\n",
    "\n",
    "tokenizer = GPT2Tokenizer.from_pretrained(\"gpt2\")\n",
    "model = GPT2LMHeadModel.from_pretrained(\"gpt2\")\n",
    "\n",
    "prompt = \"the _ jumped over the _\"\n",
    "print(f\"🧠 Starting hippocampal reconstruction for: '{prompt}'\")\n",
    "print(\"-\" * 60)\n",
    "\n",
    "words = [\"dog\", \"cat\", \"fence\", \"wall\", \"moon\"]\n",
    "filled = prompt\n",
    "\n",
    "for i, word in enumerate(tqdm(words, desc=\"Memory recall progress\")):\n",
    "    filled = filled.replace(\"_\", word, 1)\n",
    "    print(f\"Filled blank with '{word}'\")\n",
    "    \n",
    "print(\"-\" * 60)\n",
    "print(f\"🧩 Reconstructed memory: '{filled}'\")\n",
    "\n",
    "plt.plot(range(len(words)), [i*20 for i in range(len(words))])\n",
    "plt.title(\"Reconstruction Progress\")\n",
    "plt.xlabel(\"Step\")\n",
    "plt.ylabel(\"Completion (%)\")\n",
    "plt.savefig(\"assets/text_reconstruction_curve.png\")\n",
    "plt.show()\n"
   ]
  }
 ],
 "metadata": {
  "language_info": {
   "name": "python"
  }
 },
 "nbformat": 4,
 "nbformat_minor": 5
}
